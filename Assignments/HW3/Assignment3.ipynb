{
 "cells": [
  {
   "cell_type": "markdown",
   "id": "0fd33643",
   "metadata": {},
   "source": [
    "### This assignment may be worked individually or in pairs. \n",
    "### Enter your name/names here:"
   ]
  },
  {
   "cell_type": "code",
   "execution_count": 172,
   "id": "2649232b",
   "metadata": {},
   "outputs": [],
   "source": [
    "# Danica Padlan(dmp3357) and Ashley Yude(acy366)"
   ]
  },
  {
   "cell_type": "code",
   "execution_count": 1,
   "id": "ab1fe226",
   "metadata": {},
   "outputs": [],
   "source": [
    "# headers\n",
    "import pandas as pd\n",
    "import matplotlib.pyplot as plt\n",
    "import numpy as np"
   ]
  },
  {
   "cell_type": "code",
   "execution_count": 2,
   "id": "cc9c4481",
   "metadata": {},
   "outputs": [],
   "source": [
    "# function to calculate adjusted r2\n",
    "def get_adj_r2(r2, n, p):\n",
    "    return (1-(1-r2)*((n-1)/(n-p-1)))"
   ]
  },
  {
   "cell_type": "markdown",
   "id": "7a7c7806",
   "metadata": {},
   "source": [
    "# Assignment 2: Regression and KNN classifier"
   ]
  },
  {
   "cell_type": "markdown",
   "id": "5bccf477",
   "metadata": {},
   "source": [
    "## Part 1: Regression with scikit-learn\n",
    "\n",
    "In this part of the assignment, you will fit a regression model to an insurance dataset using the scikit-learn package. \n",
    "\n",
    "The insurance company would like to be able to estimate the annual medical expenditures they will need to pay for any customer, based on the customer's age, sex, BMI, # of children, whether they are a smoker, and their region of residence. \n",
    "\n",
    "Estimates from this model can be used to then determine how much to charge each customer for insurance (the more we think you'll cost us, the more we will charge you)."
   ]
  },
  {
   "cell_type": "markdown",
   "id": "8bb47879",
   "metadata": {},
   "source": [
    "**Data Prep**\n",
    "\n",
    "Q1. Read the dataset from 'medical-charges.txt' into a Pandas Dataframe. Display the head of the dataset. There should be 1138 rows and 7 columns. The target column (y) is the `charges` column."
   ]
  },
  {
   "cell_type": "code",
   "execution_count": 3,
   "id": "589c05de",
   "metadata": {
    "scrolled": true
   },
   "outputs": [
    {
     "name": "stdout",
     "output_type": "stream",
     "text": [
      "<bound method NDFrame.head of       age     sex     bmi  children smoker     region      charges\n",
      "0      19  female  27.900         0    yes  southwest  16884.92400\n",
      "1      18    male  33.770         1     no  southeast   1725.55230\n",
      "2      28    male  33.000         3     no  southeast   4449.46200\n",
      "3      33    male  22.705         0     no  northwest  21984.47061\n",
      "4      32    male  28.880         0     no  northwest   3866.85520\n",
      "...   ...     ...     ...       ...    ...        ...          ...\n",
      "1333   50    male  30.970         3     no  northwest  10600.54830\n",
      "1334   18  female  31.920         0     no  northeast   2205.98080\n",
      "1335   18  female  36.850         0     no  southeast   1629.83350\n",
      "1336   21  female  25.800         0     no  southwest   2007.94500\n",
      "1337   61  female  29.070         0    yes  northwest  29141.36030\n",
      "\n",
      "[1338 rows x 7 columns]>\n"
     ]
    }
   ],
   "source": [
    "data = pd.read_csv('medical-charges.txt')\n",
    "print(data.head)"
   ]
  },
  {
   "cell_type": "markdown",
   "id": "3043bb91",
   "metadata": {},
   "source": [
    "Q2. Notice that there are several categorical columns. You'll need to transform these to be able to do regression. Since `sex` and `smoker` are binary in this dataset, let's do them differently than `region` which has 4 options.\n",
    "\n",
    "* Use the Pandas [get_dummies()](https://pandas.pydata.org/docs/reference/api/pandas.get_dummies.html) function to one-hot-encode `sex` and `smoker`. \n",
    "* Since these features are binary, we do not need to create two columns for each of them (i.e. we do not need both smoker_yes and smoker_no - just having a smoker_yes column will be sufficient), so use the `drop_first` parameter of get_dummies to create only a `smoker_yes` and a `sex_male` column. \n",
    "* Display the head of the dataframe."
   ]
  },
  {
   "cell_type": "code",
   "execution_count": 4,
   "id": "0484464d",
   "metadata": {
    "scrolled": false
   },
   "outputs": [
    {
     "name": "stdout",
     "output_type": "stream",
     "text": [
      "<bound method NDFrame.head of       age  sex_male     bmi  children  smoker_yes     region      charges\n",
      "0      19         0  27.900         0           1  southwest  16884.92400\n",
      "1      18         1  33.770         1           0  southeast   1725.55230\n",
      "2      28         1  33.000         3           0  southeast   4449.46200\n",
      "3      33         1  22.705         0           0  northwest  21984.47061\n",
      "4      32         1  28.880         0           0  northwest   3866.85520\n",
      "...   ...       ...     ...       ...         ...        ...          ...\n",
      "1333   50         1  30.970         3           0  northwest  10600.54830\n",
      "1334   18         0  31.920         0           0  northeast   2205.98080\n",
      "1335   18         0  36.850         0           0  southeast   1629.83350\n",
      "1336   21         0  25.800         0           0  southwest   2007.94500\n",
      "1337   61         0  29.070         0           1  northwest  29141.36030\n",
      "\n",
      "[1338 rows x 7 columns]>\n"
     ]
    }
   ],
   "source": [
    "data['sex'] = pd.get_dummies(data.sex, drop_first=True)\n",
    "data['smoker'] = pd.get_dummies(data.smoker, drop_first=True)\n",
    "data.rename(columns = {'sex':'sex_male', 'smoker':'smoker_yes'}, inplace = True)\n",
    "\n",
    "print(data.head)"
   ]
  },
  {
   "cell_type": "markdown",
   "id": "11737757",
   "metadata": {},
   "source": [
    "Q3. Now one-hot encode the `region` feature by again using `get_dummies()`, but this time, even though we could drop one column, let's go ahead and explicitly keep all 4 values as columns (i.e. drop_first should be set to False). Display the head of the resulting dataframe."
   ]
  },
  {
   "cell_type": "code",
   "execution_count": 5,
   "id": "e0b43b2c",
   "metadata": {
    "scrolled": true
   },
   "outputs": [
    {
     "name": "stdout",
     "output_type": "stream",
     "text": [
      "<bound method NDFrame.head of       age  sex_male     bmi  children  smoker_yes      charges  northeast  \\\n",
      "0      19         0  27.900         0           1  16884.92400          0   \n",
      "1      18         1  33.770         1           0   1725.55230          0   \n",
      "2      28         1  33.000         3           0   4449.46200          0   \n",
      "3      33         1  22.705         0           0  21984.47061          0   \n",
      "4      32         1  28.880         0           0   3866.85520          0   \n",
      "...   ...       ...     ...       ...         ...          ...        ...   \n",
      "1333   50         1  30.970         3           0  10600.54830          0   \n",
      "1334   18         0  31.920         0           0   2205.98080          1   \n",
      "1335   18         0  36.850         0           0   1629.83350          0   \n",
      "1336   21         0  25.800         0           0   2007.94500          0   \n",
      "1337   61         0  29.070         0           1  29141.36030          0   \n",
      "\n",
      "      northwest  southeast  southwest  \n",
      "0             0          0          1  \n",
      "1             0          1          0  \n",
      "2             0          1          0  \n",
      "3             1          0          0  \n",
      "4             1          0          0  \n",
      "...         ...        ...        ...  \n",
      "1333          1          0          0  \n",
      "1334          0          0          0  \n",
      "1335          0          1          0  \n",
      "1336          0          0          1  \n",
      "1337          1          0          0  \n",
      "\n",
      "[1338 rows x 10 columns]>\n"
     ]
    }
   ],
   "source": [
    "regions = pd.get_dummies(data.region, drop_first=False)\n",
    "data = pd.concat([data, regions], axis=1)\n",
    "\n",
    "#get rid of og regions column\n",
    "data.drop(columns='region', inplace=True)\n",
    "\n",
    "print(data.head)"
   ]
  },
  {
   "cell_type": "markdown",
   "id": "38a13dc1",
   "metadata": {},
   "source": [
    "Q4. An interesting thing to check with regression problems is whether any of the individual features correlate very strongly with the label. Use the `corr()` method on the dataframe to take a look at this.\n",
    "\n",
    "Answer as a comment: Do you see any features with a strong correlation to the label?"
   ]
  },
  {
   "cell_type": "code",
   "execution_count": 7,
   "id": "6ad660fd",
   "metadata": {
    "scrolled": true
   },
   "outputs": [
    {
     "name": "stdout",
     "output_type": "stream",
     "text": [
      "                 age  sex_male       bmi  children  smoker_yes   charges  \\\n",
      "age         1.000000 -0.020856  0.109272  0.042469   -0.025019  0.299008   \n",
      "sex_male   -0.020856  1.000000  0.046371  0.017163    0.076185  0.057292   \n",
      "bmi         0.109272  0.046371  1.000000  0.012759    0.003750  0.198341   \n",
      "children    0.042469  0.017163  0.012759  1.000000    0.007673  0.067998   \n",
      "smoker_yes -0.025019  0.076185  0.003750  0.007673    1.000000  0.787251   \n",
      "charges     0.299008  0.057292  0.198341  0.067998    0.787251  1.000000   \n",
      "northeast   0.002475 -0.002425 -0.138156 -0.022808    0.002811  0.006349   \n",
      "northwest  -0.000407 -0.011156 -0.135996  0.024806   -0.036945 -0.039905   \n",
      "southeast  -0.011642  0.017117  0.270025 -0.023066    0.068498  0.073982   \n",
      "southwest   0.010016 -0.004184 -0.006205  0.021914   -0.036945 -0.043210   \n",
      "\n",
      "            northeast  northwest  southeast  southwest  \n",
      "age          0.002475  -0.000407  -0.011642   0.010016  \n",
      "sex_male    -0.002425  -0.011156   0.017117  -0.004184  \n",
      "bmi         -0.138156  -0.135996   0.270025  -0.006205  \n",
      "children    -0.022808   0.024806  -0.023066   0.021914  \n",
      "smoker_yes   0.002811  -0.036945   0.068498  -0.036945  \n",
      "charges      0.006349  -0.039905   0.073982  -0.043210  \n",
      "northeast    1.000000  -0.320177  -0.345561  -0.320177  \n",
      "northwest   -0.320177   1.000000  -0.346265  -0.320829  \n",
      "southeast   -0.345561  -0.346265   1.000000  -0.346265  \n",
      "southwest   -0.320177  -0.320829  -0.346265   1.000000  \n"
     ]
    }
   ],
   "source": [
    "print(data.corr())\n",
    "\n",
    "#smoker_yes has a strong correlation with charges"
   ]
  },
  {
   "cell_type": "markdown",
   "id": "4b86aa6a",
   "metadata": {},
   "source": [
    "Q5. Create a plot to show the difference in charges between the smokers and the non-smokers. "
   ]
  },
  {
   "cell_type": "code",
   "execution_count": 8,
   "id": "2f3a1ce1",
   "metadata": {},
   "outputs": [
    {
     "data": {
      "text/plain": [
       "<matplotlib.collections.PathCollection at 0x1507c641460>"
      ]
     },
     "execution_count": 8,
     "metadata": {},
     "output_type": "execute_result"
    },
    {
     "data": {
      "image/png": "[encoded data removed]",
      "text/plain": [
       "<Figure size 100x500 with 1 Axes>"
      ]
     },
     "metadata": {},
     "output_type": "display_data"
    }
   ],
   "source": [
    "plt.figure(figsize=(1, 5))\n",
    "plt.scatter(data['smoker_yes'], data['charges'].values, c='blue')"
   ]
  },
  {
   "cell_type": "markdown",
   "id": "5ece359c",
   "metadata": {},
   "source": [
    "Q6. Let's explore the relationship between `age` and `charges`. Create a scatter plot of all data points to show age vs charges. \n",
    "\n",
    "Answer as a comment: What do you notice about the nature of this relationship?"
   ]
  },
  {
   "cell_type": "code",
   "execution_count": 9,
   "id": "78a4ddce",
   "metadata": {},
   "outputs": [
    {
     "data": {
      "text/plain": [
       "<AxesSubplot: xlabel='age', ylabel='charges'>"
      ]
     },
     "execution_count": 9,
     "metadata": {},
     "output_type": "execute_result"
    },
    {
     "data": {
      "image/png": "[encoded data removed]",
      "text/plain": [
       "<Figure size 640x480 with 1 Axes>"
      ]
     },
     "metadata": {},
     "output_type": "display_data"
    }
   ],
   "source": [
    "data.plot.scatter(x='age', y='charges')\n",
    "#The older the age, the higher the charges are"
   ]
  },
  {
   "cell_type": "markdown",
   "id": "ce9b1624",
   "metadata": {},
   "source": [
    "#### Simple Linear Regression\n",
    "**Fit a simple linear regression model to predict `charges` from `age`.**\n",
    "\n",
    "Q7. \n",
    "* Grab the `age` column from the dataframe and call it something like `x`.\n",
    "* Grab the `charges` column from the dataframe and call it something like `y`.\n",
    "* When doing simple linear regression (one feature), you need to convert the features from a Series to a list of lists. You can do this by doing `x = x.values.reshape(-1,1)`, where the (-1,1) means (all rows, one column). \n",
    "* Do the same to the labels (`y = y.values.reshape(-1,1)`). \n",
    "* Verify that you have a list of lists for both x and y."
   ]
  },
  {
   "cell_type": "code",
   "execution_count": 10,
   "id": "a012a960",
   "metadata": {
    "scrolled": true
   },
   "outputs": [
    {
     "name": "stdout",
     "output_type": "stream",
     "text": [
      "X List:\n",
      "[[19]\n",
      " [18]\n",
      " [28]\n",
      " ...\n",
      " [18]\n",
      " [21]\n",
      " [61]]\n",
      "Y List:\n",
      "[[16884.924 ]\n",
      " [ 1725.5523]\n",
      " [ 4449.462 ]\n",
      " ...\n",
      " [ 1629.8335]\n",
      " [ 2007.945 ]\n",
      " [29141.3603]]\n"
     ]
    }
   ],
   "source": [
    "x = data['age']\n",
    "y = data['charges']\n",
    "\n",
    "x = x.values.reshape(-1,1)\n",
    "y = y.values.reshape(-1,1)\n",
    "\n",
    "print(\"X List:\")\n",
    "print(x)\n",
    "print(\"Y List:\")\n",
    "print(y)"
   ]
  },
  {
   "cell_type": "markdown",
   "id": "08424490",
   "metadata": {},
   "source": [
    "**Using the holdout method**\n",
    "\n",
    "Q8. Use [sklearn.model_selection.train_test_split](https://scikit-learn.org/stable/modules/generated/sklearn.model_selection.train_test_split.html) to split your dataset into training and test sets. Do an 80%-20% split. Display how many records are in the training set and how many are in the test set. Set the random_state argument to your favorite number."
   ]
  },
  {
   "cell_type": "code",
   "execution_count": 11,
   "id": "e9c24d71",
   "metadata": {
    "scrolled": true
   },
   "outputs": [],
   "source": [
    "from sklearn.model_selection import train_test_split\n",
    "\n",
    "x_train, x_test, y_train, y_test = train_test_split(x,y, test_size=.20, train_size=.80, random_state=13)"
   ]
  },
  {
   "cell_type": "markdown",
   "id": "cffda89c",
   "metadata": {},
   "source": [
    "Q9. \n",
    "* Create a [sklearn.linear_model.LinearRegression](https://scikit-learn.org/stable/modules/generated/sklearn.linear_model.LinearRegression.html) object. \n",
    "* Call `fit` on it and pass in the training set.\n",
    "* Print the slope and the intercept of the equation with the `.coef_` and `.intercept_` attributes. "
   ]
  },
  {
   "cell_type": "code",
   "execution_count": 12,
   "id": "caa8b841",
   "metadata": {},
   "outputs": [
    {
     "name": "stdout",
     "output_type": "stream",
     "text": [
      "Coef:\n",
      "[[255.01540154]]\n",
      "Intercept:\n",
      "[3416.88205707]\n"
     ]
    }
   ],
   "source": [
    "from sklearn.linear_model import LinearRegression\n",
    "linear_reg = LinearRegression().fit(x_train, y_train)\n",
    "\n",
    "print(\"Coef:\")\n",
    "print(linear_reg.coef_)\n",
    "\n",
    "print(\"Intercept:\")\n",
    "print(linear_reg.intercept_)\n"
   ]
  },
  {
   "cell_type": "markdown",
   "id": "c0695225",
   "metadata": {},
   "source": [
    "Q10. Now that you've fit the model on the training set, you can evaluate it on the test set. Call `predict` on the linear regression object and pass in the test set. Save the return value - these are all of the predicted values under the model for the test set. \n",
    "\n",
    "Compute some metrics to see how well this model fits the test data. Use `sklearn.metrics` to print out the MAE, MSE, RMSE, and R2 for the test set under this model. Remember that you have the actual y values for your test set, up in Q8.  "
   ]
  },
  {
   "cell_type": "code",
   "execution_count": 13,
   "id": "fe8b56fd",
   "metadata": {},
   "outputs": [
    {
     "name": "stdout",
     "output_type": "stream",
     "text": [
      "MAE:  8972.827166443149\n",
      "MSE:  129260588.57609686\n",
      "RMSE:  11369.282676409135\n",
      "R2:  0.09059782660871818\n"
     ]
    }
   ],
   "source": [
    "import sklearn.metrics as metrics\n",
    "\n",
    "y_predict = linear_reg.predict(x_test)\n",
    "MAE = metrics.mean_absolute_error(y_test, y_predict)\n",
    "MSE = metrics.mean_squared_error(y_test, y_predict)\n",
    "RMSE = metrics.mean_squared_error(y_test, y_predict, squared=False)\n",
    "R2 = metrics.r2_score(y_test, y_predict)\n",
    "\n",
    "print(\"MAE: \", MAE)\n",
    "print(\"MSE: \", MSE)\n",
    "print(\"RMSE: \", RMSE)\n",
    "print(\"R2: \", R2)"
   ]
  },
  {
   "cell_type": "markdown",
   "id": "cb8c799f",
   "metadata": {},
   "source": [
    "Q11. Let's see what the best fit line looks like with the test data. Scatter-plot the test data (x_test, y_test). Then line-plot the model predictions for the test data (x_test, y_test_preds). "
   ]
  },
  {
   "cell_type": "code",
   "execution_count": 14,
   "id": "2b64976f",
   "metadata": {},
   "outputs": [
    {
     "data": {
      "text/plain": [
       "[<matplotlib.lines.Line2D at 0x1507e888cd0>]"
      ]
     },
     "execution_count": 14,
     "metadata": {},
     "output_type": "execute_result"
    },
    {
     "data": {
      "image/png": "[encoded data removed]",
      "text/plain": [
       "<Figure size 640x480 with 1 Axes>"
      ]
     },
     "metadata": {},
     "output_type": "display_data"
    }
   ],
   "source": [
    "plt.scatter(x=x_test, y=y_test)\n",
    "plt.plot(x_test, y_predict, color=\"red\", linewidth=3)"
   ]
  },
  {
   "cell_type": "markdown",
   "id": "308eb6bf",
   "metadata": {},
   "source": [
    "Q12. Now, go back up to your Q8, change the random_state to a different number, and re-run Q9, Q10, Q11. \n",
    "\n",
    "Answer as a comment: What happened and why?"
   ]
  },
  {
   "cell_type": "code",
   "execution_count": 15,
   "id": "82a24492",
   "metadata": {},
   "outputs": [],
   "source": [
    "# answer as a comment here\n",
    "# random number = 13\n",
    "# Coef:\n",
    "# [[255.01540154]]\n",
    "# Intercept:\n",
    "# [3416.88205707]\n",
    "# MAE:  8972.827166443149\n",
    "# MSE:  129260588.57609686\n",
    "# RMSE:  11369.282676409135\n",
    "# R2:  0.09059782660871818\n",
    "\n",
    "# random number = 9\n",
    "# Coef:\n",
    "# [[262.91295986]]\n",
    "# Intercept:\n",
    "# [3050.56668952]\n",
    "# MAE:  8966.449673643923\n",
    "# MSE:  130404294.87051001\n",
    "# RMSE:  11419.469990788102\n",
    "# R2:  0.07763293267060645\n",
    "\n",
    "# Some of the values changed between the change of random_state values. \n",
    "# In this case, Intercept, MAE , and R2 decreased while Coef, MSE, and RMSE increased.\n",
    "# This is due to the random_state values changing what data split we are testing on."
   ]
  },
  {
   "cell_type": "markdown",
   "id": "99d04b36",
   "metadata": {},
   "source": [
    "**Using cross-validation**\n",
    "\n",
    "Q13. Use `sklearn.model_selection.cross_val_score` to perform 5-fold cross validation on a simple linear regression model. \n",
    "\n",
    "You will pass the FULL dataset (x and y from before the train/test split in Q8) into `cross_val_score` which will automatically divide it into the number of folds you tell it to, fit a linear regression model to the training set for each fold, and test it on the test set for each fold. It will return a numpy array with the R2 on the test set for each fold. Average these R2 scores to print out the generalization estimate of the model.\n",
    "\n",
    "On average, after 5 trials with 5 different test sets, this is how well we think a linear regression of using `age` to predict `charges` will work. "
   ]
  },
  {
   "cell_type": "code",
   "execution_count": 16,
   "id": "c5b417e6",
   "metadata": {},
   "outputs": [
    {
     "name": "stdout",
     "output_type": "stream",
     "text": [
      "Average R2 Scores  0.08821241573294034\n"
     ]
    }
   ],
   "source": [
    "from sklearn.model_selection import cross_val_score\n",
    "\n",
    "# x = age, y = charges initialized already \n",
    "\n",
    "cur_r2_score = cross_val_score(linear_reg, x, y, cv=5)\n",
    "\n",
    "#loop through to get the total and then divide by 5 \n",
    "total = 0;\n",
    "for i in range(len(cur_r2_score)):\n",
    "    total += cur_r2_score[i]\n",
    "    \n",
    "\n",
    "print(\"Average R2 Scores \", (total/5))"
   ]
  },
  {
   "cell_type": "markdown",
   "id": "eed2a22c",
   "metadata": {},
   "source": [
    "#### Multiple Linear Regression\n",
    "**Fit a multiple linear regression model to predict `charges` from `age` and `smoker`.**"
   ]
  },
  {
   "cell_type": "markdown",
   "id": "2b3b2aa1",
   "metadata": {},
   "source": [
    "Q14. Now let's see if we can get a better model by including another feature.\n",
    "* From the one-hot-encoded dataframe (the result of Q3), grab both the `age` and `smoker_yes` columns. Call it something like x. \n",
    "* (No need to call a reshape this time, since it is multi-dimensional data now.)\n",
    "* You already have the y's.\n",
    "* Create a new `sklearn.linear_model.LinearRegression` object. (Or you can re-use the one you already have.)\n",
    "* Pass it all into a `sklearn.model_selection.cross_val_score` with a 5-fold CV.\n",
    "* Print out the average R2.\n",
    "* Once we get into **multiple** linear regression, we should not use R2, we should instead use adjusted-R2. Use the provided (at the top of the file) `get_adj_R2()` function to print out the adjusted R2. (Note, this value will be very close to the R2 because our `n` is large and our `p` is small.)\n",
    "\n",
    "Answer as a comment: What happens when you include `smoker_yes`?"
   ]
  },
  {
   "cell_type": "code",
   "execution_count": 17,
   "id": "6c1db535",
   "metadata": {},
   "outputs": [
    {
     "name": "stdout",
     "output_type": "stream",
     "text": [
      "Average R2 Scores  0.17642483146588067\n",
      "Adjusted R2 Scores  0.17519101098867618\n"
     ]
    }
   ],
   "source": [
    "x = data[['age', 'smoker_yes']]\n",
    "\n",
    "#using same y\n",
    "\n",
    "cur_r2_scores = cross_val_score(linear_reg, x, y, cv=5)\n",
    "\n",
    "for i in range(len(cur_r2_score)):\n",
    "    total += cur_r2_score[i]\n",
    "    \n",
    "avg_r2 = (total/5)\n",
    "\n",
    "print(\"Average R2 Scores \", avg_r2)\n",
    "\n",
    "#use adjusted R2\n",
    "adj_r2 = get_adj_r2(avg_r2, len(x), 2)\n",
    "\n",
    "print(\"Adjusted R2 Scores \", adj_r2)\n",
    "\n",
    "#Answer:\n",
    "#Adding 'smoker_yes' makes the R2 score higher than just using 'age' as an indicator for the class label"
   ]
  },
  {
   "cell_type": "markdown",
   "id": "e7bdb411",
   "metadata": {},
   "source": [
    "Q15. Let's go one more step and see if including ALL of our features is even better at predicting the `charges` than using just `age` and `smoker`.\n",
    "\n",
    "* From the one-hot-encoded dataframe (the result of Q3), grab all the features, but NOT the target. Call it something like x.\n",
    "* (No need to call a reshape this time, since it is multi-dimensional data now.)\n",
    "* You already have the y's.\n",
    "* Create a new sklearn.linear_model.LinearRegression object. (Or you can re-use the one you already have.)\n",
    "* Pass it all into a sklearn.model_selection.cross_val_score with a 5-fold CV.\n",
    "* Print out the average R2 and the adjusted R2."
   ]
  },
  {
   "cell_type": "code",
   "execution_count": 18,
   "id": "4dbef0e5",
   "metadata": {
    "scrolled": true
   },
   "outputs": [
    {
     "name": "stdout",
     "output_type": "stream",
     "text": [
      "Average R2 Scores  0.2646372471988211\n",
      "Adjusted R2 Scores  0.26353558015342615\n"
     ]
    }
   ],
   "source": [
    "x = data.drop(['charges'], axis=1)\n",
    "\n",
    "#using same y\n",
    "\n",
    "cur_r2_scores = cross_val_score(linear_reg, x, y, cv=5)\n",
    "\n",
    "for i in range(len(cur_r2_score)):\n",
    "    total += cur_r2_score[i]\n",
    "    \n",
    "avg_r2 = (total/5)\n",
    "\n",
    "print(\"Average R2 Scores \", avg_r2)\n",
    "\n",
    "#use adjusted R2\n",
    "adj_r2 = get_adj_r2(avg_r2, len(x), 2)\n",
    "\n",
    "print(\"Adjusted R2 Scores \", adj_r2)"
   ]
  },
  {
   "cell_type": "markdown",
   "id": "f3c60daf",
   "metadata": {},
   "source": [
    "Q16. Build the final model on the entire dataset. \n",
    "* You should already have your x from the previous question (Q15).\n",
    "* You already have the y's.\n",
    "* Create a new `sklearn.linear_model.LinearRegression` object, or you can re-use the one you already have.\n",
    "* Call `fit` and pass in all the data (x, y).\n",
    "* Print out the coefficients and the intercept of the fitted model. The coefficients correspond to the the order in which the features are in the dataframe (x).\n",
    "\n",
    "This defines your multiple linear regression equation! "
   ]
  },
  {
   "cell_type": "code",
   "execution_count": 28,
   "id": "03cfb422",
   "metadata": {
    "scrolled": true
   },
   "outputs": [
    {
     "name": "stdout",
     "output_type": "stream",
     "text": [
      "Coefs:\n",
      "[[  256.85635254  -131.3143594    339.19345361   475.50054515\n",
      "  23848.53454191   587.00923503   234.0453356   -448.01281436\n",
      "   -373.04175627]]\n",
      "Intercept:\n",
      "[-12525.5478112]\n"
     ]
    }
   ],
   "source": [
    "linear_reg = LinearRegression().fit(x, y)\n",
    "\n",
    "print(\"Coefs:\")\n",
    "print(linear_reg.coef_)\n",
    "\n",
    "print(\"Intercept:\")\n",
    "print(linear_reg.intercept_)"
   ]
  },
  {
   "cell_type": "markdown",
   "id": "c08d42fc",
   "metadata": {},
   "source": [
    "## Part 2: K-Nearest Neighbors from scratch\n",
    "\n",
    "In this part of the assignment you'll implement the K-Nearest Neighbors (KNN) classification algorithm to classify patients as either having or not having diabetic retinopathy. For this task we'll be using the same Diabetic Retinopathy data set which was used in the previous assignment on decision trees. "
   ]
  },
  {
   "cell_type": "markdown",
   "id": "f04ffa20",
   "metadata": {},
   "source": [
    "You may use the following function to print a confusion matrix:"
   ]
  },
  {
   "cell_type": "code",
   "execution_count": 29,
   "id": "acc4cd14",
   "metadata": {},
   "outputs": [],
   "source": [
    "def print_confusion_matrix(TP, FN, FP, TN):\n",
    "    \n",
    "    table_data = [[TP,FN],[FP,TN]]\n",
    "    df = pd.DataFrame(table_data, columns =['Predicted 1','Predicted 0'])\n",
    "    df = df.rename(index={0: 'Actual 1', 1: 'Actual 0'})\n",
    "    display(df)"
   ]
  },
  {
   "cell_type": "code",
   "execution_count": 30,
   "id": "4eb2b554",
   "metadata": {},
   "outputs": [],
   "source": [
    "# you may use these constants if you want\n",
    "LABEL_COLUMN = 19\n",
    "BINARY_COLUMNS = {0,1,18}"
   ]
  },
  {
   "cell_type": "markdown",
   "id": "7edf52cf",
   "metadata": {},
   "source": [
    "Q1. Normalize the data so that each feature value lies between `[0-1]`.\n",
    "\n",
    "In class, we talked about why scaling the data is critical to KNN. We also talked about how data scaling should be done *inside the cross validataion loop*. This means that the scaling parameters should be based on the **training set only**, in order to prevent data leakage. Then the test data will need to be scaled, using the parameters found on the **training** data.\n",
    "\n",
    "Fill in the function to take in a training dataset and a test dataset and normalize them correctly. Return the normalized datasets.\n",
    "\n",
    "Caution: Return NEW datasets that have been normalized - do not normalize the datasets in-place, so that this can be run numerous times without altering the original data or normalizing already normalized data.\n",
    "\n",
    "Hint: When using dataframes, you can do this without a loop!"
   ]
  },
  {
   "cell_type": "code",
   "execution_count": 31,
   "id": "f2521ea4",
   "metadata": {},
   "outputs": [],
   "source": [
    "from sklearn import preprocessing\n",
    "\n",
    "def normalize_data(train, test):\n",
    "    train_norm=(train-train.min())/(train.max()-train.min())\n",
    "    test_norm=(test-train.min())/(train.max()-train.min())\n",
    "    return train_norm, test_norm"
   ]
  },
  {
   "cell_type": "code",
   "execution_count": 32,
   "id": "117af379",
   "metadata": {},
   "outputs": [],
   "source": [
    "#works!!!\n",
    "#testing normalize_data\n",
    "# Re-read data (to un-do normalization)\n",
    "# train_set = pd.read_csv(\"sample_train.txt\", header=None)\n",
    "# test_set = pd.read_csv(\"sample_test.txt\", header=None)\n",
    "\n",
    "# train_norm, test_norm = normalize_data(train_set, test_set)\n",
    "# print(\"Before: \")\n",
    "# print(train_set)\n",
    "# print(test_set)\n",
    "# print(\"After: \")\n",
    "# print(train_norm)\n",
    "# print(test_norm)"
   ]
  },
  {
   "cell_type": "markdown",
   "id": "acbcfd93",
   "metadata": {},
   "source": [
    "Q2. The distance calculation method is central to the KNN algorithm. In this assignment you'll be using the Euclidean distance. \n",
    "\n",
    "Implement a function that takes in one data point (as a list), and the training data (as a dataframe), and calculates the Euclidian distance from the single data point to each of the data points in the training data.\n",
    "\n",
    "You may return these however you want (or may add them to the dataframe?).\n",
    "\n",
    "Hint: \n",
    "For KNN, the distance calculations are the most time-consuming part of the algorithm. Even though computing Euclidian distance seems like a simple, and therefore quick, calculation, running it thousands of times, inside of a nested 5-fold cross-validation for example, can cause this algorithm to take a very long time to run, depending on your implementation. \n",
    "\n",
    "Remember, you almost never need to loop a Dataframe! Pandas DataFrames have been specifically optimized for fast operations on large datasets, by [vectorizing](https://www.quantifisolutions.com/vectorization-part-2-why-and-what) calculations across all rows at once.\n",
    "\n",
    "If you use a DataFrame, you should not write a loop to calculate each of the Euclidian distances one at a time. Look at [this post](https://stackoverflow.com/questions/46908388/find-euclidean-distance-from-a-point-to-rows-in-pandas-dataframe?rq=1) for more info.\n",
    "\n",
    "Caution: Be careful not to use the label in your distance calculation."
   ]
  },
  {
   "cell_type": "code",
   "execution_count": 33,
   "id": "8568727f",
   "metadata": {},
   "outputs": [],
   "source": [
    "def get_distances(point, df):\n",
    "    df['distance'] = (df.iloc[:, df.columns != LABEL_COLUMN]).sub(point, axis=1).pow(2).sum(axis=1).pow(0.5)\n",
    "    return None"
   ]
  },
  {
   "cell_type": "code",
   "execution_count": 34,
   "id": "8bb386e1",
   "metadata": {},
   "outputs": [],
   "source": [
    "# # # # #TESTED\n",
    "# # # #testing get_distances!\n",
    "# train_point = [ [7,7, 0], [7,4, 0] , [3,4, 1] , [1,4, 0]]\n",
    "# train = pd.DataFrame(train_point, columns=['Acid Durability', 'Strength', 'Label'])\n",
    "\n",
    "# test_point = [[4, 6, 0]]\n",
    "# test = pd.DataFrame(test_point, columns=['Acid Durability', 'Strength', 'Label'])\n",
    "\n",
    "# print(\"Test\")\n",
    "# print(test)\n",
    "\n",
    "# get_distances(test, train)\n",
    "\n",
    "# print(\"After\")\n",
    "# print(train)"
   ]
  },
  {
   "cell_type": "markdown",
   "id": "3e91c9c3",
   "metadata": {},
   "source": [
    "Q3. Build your KNN classifier.\n",
    "\n",
    "This function takes in a training set (as a dataframe), a test set (as a dataframe), and a k to use, and classifies all data points in the test set, using the data in the training set and the given k.\n",
    "\n",
    "It should return the predicted labels for the test set as a list.\n",
    "\n",
    "Caution: Remember to normalize your data before doing distance calculations."
   ]
  },
  {
   "cell_type": "code",
   "execution_count": 35,
   "id": "6330af96",
   "metadata": {},
   "outputs": [],
   "source": [
    "def run_knn(train_set, test_set, k):\n",
    "    \n",
    "    predicted_labels = []\n",
    "    # Normalize data\n",
    "    train, test = normalize_data(train_set, test_set)\n",
    "\n",
    "    # classify data in test set\n",
    "    for i, row in test.iterrows():\n",
    "        \n",
    "        # get distances all neighbors for each point in test set \n",
    "        get_distances(row, train)\n",
    "        train.sort_values(by=['distance'], ascending=True,inplace=True)\n",
    "\n",
    "        # get the top k values\n",
    "        top_k = train.iloc[0:k, train.columns==LABEL_COLUMN]\n",
    "\n",
    "        # find majority of predicted label\n",
    "        one_count = 0;\n",
    "        zero_count = 0;\n",
    "        for votes in range(len(top_k)):\n",
    "            if (top_k.iloc[votes,0] == 1):\n",
    "                one_count += 1  \n",
    "            else:\n",
    "                zero_count += 1\n",
    "                \n",
    "        # append predicions to list\n",
    "        predicted_labels.append(1) if (one_count > zero_count) else predicted_labels.append(0)\n",
    "        train.drop(\"distance\", axis=1,inplace=True)\n",
    "        \n",
    "    return predicted_labels"
   ]
  },
  {
   "cell_type": "code",
   "execution_count": 37,
   "id": "fac2c77f",
   "metadata": {},
   "outputs": [],
   "source": [
    "# Tested run_knn\n",
    "# print(\"\\nQ3. run_knn():\")\n",
    "# # Re-read data (to un-do normalization)\n",
    "# train_set = pd.read_csv(\"sample_train.txt\", header=None)\n",
    "# test_set = pd.read_csv(\"sample_test.txt\", header=None)\n",
    "\n",
    "# # need to add printouts to run_knn() to see results\n",
    "# preds = run_knn(train_set, test_set, k=3)\n",
    "# print(preds)"
   ]
  },
  {
   "cell_type": "markdown",
   "id": "b80cc7f6",
   "metadata": {},
   "source": [
    "Q4. Find the best value of k for this data. \n",
    "\n",
    "Try k ranging from 1 to 10 (odds only). For each k value, use a 5-fold cross validation to evaluate the accuracy with that k. In each fold of CV, divide your data into a training set and a validation set. Print out the best value of k and the accuracy achieved with that value. Return the best value of k. If there is a tie for best k, use the lowest of the k values.\n",
    "\n",
    "Hint: This is the *inner* loop of a nested cross validation."
   ]
  },
  {
   "cell_type": "code",
   "execution_count": 38,
   "id": "70de520e",
   "metadata": {},
   "outputs": [],
   "source": [
    "def find_best_k(data):\n",
    "    best_k = 0;\n",
    "    best_accuracy = 0\n",
    "    for k in range (10):\n",
    "        # only odd numbers\n",
    "        if (k%2 != 0):\n",
    "            print(\"current k: \", k)\n",
    "            acc_avg_total = 0\n",
    "            start_test = 0\n",
    "            increment = int(len(data)/5) # equals to 3 on train_set given\n",
    "            end_test = increment\n",
    "            \n",
    "            #cross validation loop for 5-fold\n",
    "            for x in range (5):\n",
    "\n",
    "                # partition data into train_set and test_set\n",
    "                first_train_set = data[0:start_test]\n",
    "                last_train_set = data[end_test:len(data)]\n",
    "                train_set = [first_train_set, last_train_set]\n",
    "                train_set = pd.concat(train_set)\n",
    "                \n",
    "                test_set = data[start_test:end_test]\n",
    "\n",
    "                # run knn\n",
    "                prediction = run_knn(train_set, test_set, k)\n",
    "                \n",
    "                # compare prediction to actual\n",
    "                correct = 0\n",
    "                for i in range (len(prediction)):\n",
    "                    temp = test_set.iloc[i]\n",
    "                    \n",
    "                    if (prediction[i] == temp[LABEL_COLUMN]):\n",
    "                        correct += 1\n",
    "                \n",
    "                accuracy = correct/len(prediction)\n",
    "                \n",
    "                # update start and end values\n",
    "                start_test += increment\n",
    "                end_test += increment\n",
    "\n",
    "                acc_avg_total += accuracy\n",
    "\n",
    "            #print acc_avg_total / 5 overall accuracy   \n",
    "            print('Avg error over 5-fold:', (acc_avg_total / 5) )\n",
    "    \n",
    "            #update best_k and best_accuracy\n",
    "            if (acc_avg_total > best_accuracy):\n",
    "                best_k = k\n",
    "                best_accuracy = acc_avg_total\n",
    "        \n",
    "    return best_k"
   ]
  },
  {
   "cell_type": "code",
   "execution_count": 39,
   "id": "f4538f2d",
   "metadata": {
    "scrolled": true
   },
   "outputs": [
    {
     "name": "stdout",
     "output_type": "stream",
     "text": [
      "\n",
      "Q4. find_best_k():\n",
      "current k:  1\n",
      "Avg error over 5-fold: 0.5333333333333334\n",
      "current k:  3\n",
      "Avg error over 5-fold: 0.4666666666666666\n",
      "current k:  5\n",
      "Avg error over 5-fold: 0.4666666666666667\n",
      "current k:  7\n",
      "Avg error over 5-fold: 0.5333333333333334\n",
      "current k:  9\n",
      "Avg error over 5-fold: 0.5999999999999999\n",
      "best_k:  9\n"
     ]
    }
   ],
   "source": [
    "print(\"\\nQ4. find_best_k():\")\n",
    "# Re-read data (to un-do normalization)\n",
    "train_set = pd.read_csv(\"sample_train.txt\", header=None)\n",
    "test_set = pd.read_csv(\"sample_test.txt\", header=None)\n",
    "\n",
    "# find the best k on the training set\n",
    "# need to add printouts in find_best_k() to see results\n",
    "k = find_best_k(train_set) \n",
    "print(\"best_k: \", k)"
   ]
  },
  {
   "cell_type": "markdown",
   "id": "5da24b15",
   "metadata": {},
   "source": [
    "Q5. Now measure the accuracy of your classifier using 5-fold cross validation. \n",
    "\n",
    "In each fold of this CV, divide your data into a training set and a test set. The training set should get sent through your code for Q4, resulting in a value of k to use. Using that k, calculate an accuracy on the test set. You will average the accuracy over all 5 folds to obtain the final accuracy measurement. \n",
    "\n",
    "Print the accuracy, the confusion matrix, and the precision and recall for class label 1 (patients that have been diagnosed with the disease)."
   ]
  },
  {
   "cell_type": "code",
   "execution_count": 41,
   "id": "8a77f17b",
   "metadata": {},
   "outputs": [
    {
     "name": "stdout",
     "output_type": "stream",
     "text": [
      "Avg error over 5-fold: 0.6456692913385826\n"
     ]
    },
    {
     "data": {
      "text/html": [
       "<div>\n",
       "<style scoped>\n",
       "    .dataframe tbody tr th:only-of-type {\n",
       "        vertical-align: middle;\n",
       "    }\n",
       "\n",
       "    .dataframe tbody tr th {\n",
       "        vertical-align: top;\n",
       "    }\n",
       "\n",
       "    .dataframe thead th {\n",
       "        text-align: right;\n",
       "    }\n",
       "</style>\n",
       "<table border=\"1\" class=\"dataframe\">\n",
       "  <thead>\n",
       "    <tr style=\"text-align: right;\">\n",
       "      <th></th>\n",
       "      <th>Predicted 1</th>\n",
       "      <th>Predicted 0</th>\n",
       "    </tr>\n",
       "  </thead>\n",
       "  <tbody>\n",
       "    <tr>\n",
       "      <th>Actual 1</th>\n",
       "      <td>41</td>\n",
       "      <td>21</td>\n",
       "    </tr>\n",
       "    <tr>\n",
       "      <th>Actual 0</th>\n",
       "      <td>0</td>\n",
       "      <td>65</td>\n",
       "    </tr>\n",
       "  </tbody>\n",
       "</table>\n",
       "</div>"
      ],
      "text/plain": [
       "          Predicted 1  Predicted 0\n",
       "Actual 1           41           21\n",
       "Actual 0            0           65"
      ]
     },
     "metadata": {},
     "output_type": "display_data"
    },
    {
     "name": "stdout",
     "output_type": "stream",
     "text": [
      "Precision:  1.0\n",
      "Recall:  0.6612903225806451\n"
     ]
    }
   ],
   "source": [
    "import time\n",
    "\n",
    "def run_CV():\n",
    "    # read in data\n",
    "    data = pd.read_csv('messidor_features.txt', header = None)\n",
    "\n",
    "    #start_time = time.time()\n",
    "    acc_avg_total = 0\n",
    "    start_test = 0\n",
    "    increment = int(len(data)/k) # equals to 3 on train_set given\n",
    "    end_test = increment\n",
    "    \n",
    "    for x in range(5):\n",
    "         # partition data into train_set and test_set\n",
    "        first_train_set = data[0:start_test]\n",
    "        last_train_set = data[end_test:len(data)]\n",
    "        train_set = [first_train_set, last_train_set]\n",
    "        train_set = pd.concat(train_set)\n",
    "\n",
    "        test_set = data[start_test:end_test]\n",
    "\n",
    "        # run knn\n",
    "        prediction = run_knn(train_set, test_set, k)\n",
    "\n",
    "        # compare prediction to actual\n",
    "        correct = 0\n",
    "        for i in range (len(prediction)):\n",
    "            temp = test_set.iloc[i]\n",
    "            if (prediction[i] == temp[LABEL_COLUMN]):\n",
    "                correct += 1\n",
    "\n",
    "        accuracy = correct/len(prediction)\n",
    "\n",
    "        #update start and end values\n",
    "        start_test += increment\n",
    "        end_test += increment\n",
    "\n",
    "        acc_avg_total += accuracy\n",
    "\n",
    "#   print acc_avg_total / 5 overall accuracy   \n",
    "    print('Avg error over 5-fold:', (acc_avg_total / 5) )\n",
    "        \n",
    "    true_pos = 0\n",
    "    true_neg = 0\n",
    "    false_pos = 0\n",
    "    false_neg = 0\n",
    "    \n",
    "    for x in range(len(prediction)):\n",
    "        pred_val = prediction[x]\n",
    "        label = test_set.iloc[x, LABEL_COLUMN]\n",
    "        \n",
    "        if (pred_val == label & pred_val == 1): true_pos+=1\n",
    "        elif (pred_val == label & pred_val == 0): true_neg+=1\n",
    "        elif (pred_val != label & pred_val == 1): false_pos+=1\n",
    "        else: false_neg+=1\n",
    "    \n",
    "    print_confusion_matrix(true_pos, false_neg, false_pos, true_neg)\n",
    "    \n",
    "    #calc precision and recall\n",
    "    print(\"Precision: \", true_pos/(true_pos + false_pos))\n",
    "    print(\"Recall: \", true_pos/(true_pos + false_neg))\n",
    "    \n",
    "run_CV()"
   ]
  }
 ],
 "metadata": {
  "kernelspec": {
   "display_name": "Python 3 (ipykernel)",
   "language": "python",
   "name": "python3"
  },
  "language_info": {
   "codemirror_mode": {
    "name": "ipython",
    "version": 3
   },
   "file_extension": ".py",
   "mimetype": "text/x-python",
   "name": "python",
   "nbconvert_exporter": "python",
   "pygments_lexer": "ipython3",
   "version": "3.9.15"
  }
 },
 "nbformat": 4,
 "nbformat_minor": 5
}
